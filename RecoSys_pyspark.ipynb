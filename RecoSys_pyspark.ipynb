{
  "nbformat": 4,
  "nbformat_minor": 0,
  "metadata": {
    "colab": {
      "provenance": []
    },
    "kernelspec": {
      "name": "python3",
      "display_name": "Python 3"
    },
    "language_info": {
      "name": "python"
    }
  },
  "cells": [
    {
      "cell_type": "code",
      "execution_count": 1,
      "metadata": {
        "colab": {
          "base_uri": "https://localhost:8080/"
        },
        "id": "DYIxdJdhC6jS",
        "outputId": "83107955-89c4-4694-c3f8-b7e9bcd1186c"
      },
      "outputs": [
        {
          "output_type": "stream",
          "name": "stdout",
          "text": [
            "Collecting pyspark\n",
            "  Downloading pyspark-3.5.0.tar.gz (316.9 MB)\n",
            "\u001b[2K     \u001b[90m━━━━━━━━━━━━━━━━━━━━━━━━━━━━━━━━━━━━━━━━\u001b[0m \u001b[32m316.9/316.9 MB\u001b[0m \u001b[31m4.1 MB/s\u001b[0m eta \u001b[36m0:00:00\u001b[0m\n",
            "\u001b[?25h  Preparing metadata (setup.py) ... \u001b[?25l\u001b[?25hdone\n",
            "Requirement already satisfied: py4j==0.10.9.7 in /usr/local/lib/python3.10/dist-packages (from pyspark) (0.10.9.7)\n",
            "Building wheels for collected packages: pyspark\n",
            "  Building wheel for pyspark (setup.py) ... \u001b[?25l\u001b[?25hdone\n",
            "  Created wheel for pyspark: filename=pyspark-3.5.0-py2.py3-none-any.whl size=317425345 sha256=c2a6bea893767ca445781e637017ac47f92f031badb4a2c0be077a4dec355b54\n",
            "  Stored in directory: /root/.cache/pip/wheels/41/4e/10/c2cf2467f71c678cfc8a6b9ac9241e5e44a01940da8fbb17fc\n",
            "Successfully built pyspark\n",
            "Installing collected packages: pyspark\n",
            "Successfully installed pyspark-3.5.0\n"
          ]
        }
      ],
      "source": [
        "!pip install pyspark"
      ]
    },
    {
      "cell_type": "code",
      "source": [
        "import pyspark"
      ],
      "metadata": {
        "id": "xGONE0CwDRkX"
      },
      "execution_count": 2,
      "outputs": []
    },
    {
      "cell_type": "code",
      "source": [
        "from pyspark.sql import SparkSession\n",
        "\n",
        "ss = SparkSession  \\\n",
        "  .builder  \\\n",
        "  .appName('Use Collaborative Filtering System for movie recommendations')  \\\n",
        "  .getOrCreate()\n",
        "\n",
        "ratings = ss.read\\\n",
        "            .format('csv')\\\n",
        "            .option('header', 'true')\\\n",
        "            .load('ratings.csv')"
      ],
      "metadata": {
        "id": "BQ6cn1XxD2wM"
      },
      "execution_count": 9,
      "outputs": []
    },
    {
      "cell_type": "code",
      "source": [
        "movies = ss.read.csv('movies.csv', header = True, inferSchema = True)"
      ],
      "metadata": {
        "id": "HA2hpYXZOCyT"
      },
      "execution_count": 13,
      "outputs": []
    },
    {
      "cell_type": "code",
      "source": [
        "ratings.head(5)"
      ],
      "metadata": {
        "colab": {
          "base_uri": "https://localhost:8080/"
        },
        "id": "VPY6N7EpNj7a",
        "outputId": "0e603b2e-9c50-42e7-9b2b-700fad6a0b06"
      },
      "execution_count": 12,
      "outputs": [
        {
          "output_type": "execute_result",
          "data": {
            "text/plain": [
              "[Row(userId='1', movieId='1', rating='4.0', timestamp='964982703'),\n",
              " Row(userId='1', movieId='3', rating='4.0', timestamp='964981247'),\n",
              " Row(userId='1', movieId='6', rating='4.0', timestamp='964982224'),\n",
              " Row(userId='1', movieId='47', rating='5.0', timestamp='964983815'),\n",
              " Row(userId='1', movieId='50', rating='5.0', timestamp='964982931')]"
            ]
          },
          "metadata": {},
          "execution_count": 12
        }
      ]
    },
    {
      "cell_type": "code",
      "source": [
        "from pyspark.sql.functions import col\n",
        "\n",
        "dataset = rawData.select(col('userId').cast('int'),\n",
        "                         col('movieId').cast('int'),\n",
        "                         col('rating').cast('float'))\n",
        "\n",
        "dataset.head(5)"
      ],
      "metadata": {
        "colab": {
          "base_uri": "https://localhost:8080/"
        },
        "id": "xPZdMg6gNtnp",
        "outputId": "aa049856-711b-4022-b859-3ed3af592544"
      },
      "execution_count": 15,
      "outputs": [
        {
          "output_type": "execute_result",
          "data": {
            "text/plain": [
              "[Row(userId=1, movieId=1, rating=4.0),\n",
              " Row(userId=1, movieId=3, rating=4.0),\n",
              " Row(userId=1, movieId=6, rating=4.0),\n",
              " Row(userId=1, movieId=47, rating=5.0),\n",
              " Row(userId=1, movieId=50, rating=5.0)]"
            ]
          },
          "metadata": {},
          "execution_count": 15
        }
      ]
    },
    {
      "cell_type": "code",
      "source": [
        "(trainingData, testData) = dataset.randomSplit([0.8,0.2])"
      ],
      "metadata": {
        "id": "coXVkzd5Qsad"
      },
      "execution_count": 17,
      "outputs": []
    },
    {
      "cell_type": "code",
      "source": [
        "from pyspark.ml.recommendation import ALS\n",
        "\n",
        "als = ALS (maxIter = 5,\n",
        "           regParam = 0.1,\n",
        "           userCol = 'userId',\n",
        "           itemCol = 'movieId',\n",
        "           ratingCol = 'rating',\n",
        "           coldStartStrategy='drop')"
      ],
      "metadata": {
        "id": "LV_1piSMQMZe"
      },
      "execution_count": 18,
      "outputs": []
    },
    {
      "cell_type": "code",
      "source": [
        "model = als.fit(trainingData)"
      ],
      "metadata": {
        "id": "47BmWirVQmFa"
      },
      "execution_count": 19,
      "outputs": []
    },
    {
      "cell_type": "code",
      "source": [
        "predictions = model.transform(testData)\n",
        "predictions.head(5)"
      ],
      "metadata": {
        "colab": {
          "base_uri": "https://localhost:8080/"
        },
        "id": "ZRsBRFYcQ8n9",
        "outputId": "6c92cfb7-b197-4630-9079-500acbe11461"
      },
      "execution_count": 20,
      "outputs": [
        {
          "output_type": "execute_result",
          "data": {
            "text/plain": [
              "[Row(userId=148, movieId=1197, rating=3.0, prediction=3.941575527191162),\n",
              " Row(userId=148, movieId=4896, rating=4.0, prediction=3.5489368438720703),\n",
              " Row(userId=148, movieId=4993, rating=3.0, prediction=3.26409649848938),\n",
              " Row(userId=148, movieId=5618, rating=3.0, prediction=3.5257482528686523),\n",
              " Row(userId=148, movieId=7153, rating=3.0, prediction=3.659503698348999)]"
            ]
          },
          "metadata": {},
          "execution_count": 20
        }
      ]
    },
    {
      "cell_type": "code",
      "source": [
        "predictions.select('rating', 'prediction').describe().show()"
      ],
      "metadata": {
        "colab": {
          "base_uri": "https://localhost:8080/"
        },
        "id": "sTAlcRihRwQ8",
        "outputId": "f4e748cf-6192-4b08-a617-4bd7afa971dd"
      },
      "execution_count": 22,
      "outputs": [
        {
          "output_type": "stream",
          "name": "stdout",
          "text": [
            "+-------+------------------+------------------+\n",
            "|summary|            rating|        prediction|\n",
            "+-------+------------------+------------------+\n",
            "|  count|             19347|             19347|\n",
            "|   mean|3.5097948002274255| 3.355771693411388|\n",
            "| stddev|1.0450266667787786|0.7367727719130752|\n",
            "|    min|               0.5|        -0.2699326|\n",
            "|    max|               5.0|         5.5720677|\n",
            "+-------+------------------+------------------+\n",
            "\n"
          ]
        }
      ]
    },
    {
      "cell_type": "code",
      "source": [
        "from pyspark.ml.evaluation import RegressionEvaluator\n",
        "\n",
        "eval = RegressionEvaluator(metricName = 'rmse',\n",
        "                          labelCol = 'rating',\n",
        "                          predictionCol= 'prediction')\n",
        "\n",
        "rmse = eval.evaluate(predictions)\n",
        "print('RMSE =', rmse)"
      ],
      "metadata": {
        "colab": {
          "base_uri": "https://localhost:8080/"
        },
        "id": "k9vxKGS3SQ_4",
        "outputId": "fcbb2ff8-de8a-4176-ffa4-2ecb3f0a937c"
      },
      "execution_count": 24,
      "outputs": [
        {
          "output_type": "stream",
          "name": "stdout",
          "text": [
            "RMSE = 0.8951079531697683\n"
          ]
        }
      ]
    }
  ]
}